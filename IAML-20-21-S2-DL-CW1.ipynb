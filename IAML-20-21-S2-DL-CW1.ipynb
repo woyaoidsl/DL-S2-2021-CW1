{
 "cells": [
  {
   "cell_type": "markdown",
   "metadata": {},
   "source": [
    "# Introductory Applied Machine Learning (IAML) Coursework 1 - Semester 2, January 2021.\n",
    "\n",
    "### Author: Nigel Goddard\n",
    "\n",
    "## Important Instructions\n",
    "\n",
    "#### It is important that you follow the instructions below carefully for things to work properly.\n",
    "\n",
    "You need to set up and activate your environment as you would do for your labs, see Learn section on Labs.  **You will need to use Noteable to create one of the files you will submit (the PDF)**.  Do **NOT** create the PDF in some other way, we will not be able to mark it.  If you want to develop your answers in your own environment, you should make sure you are using the same packages we are using, by running the cell which does imports below.\n",
    "\n",
    "Read the instructions in this notebook carefully, especially where asked to name variables with a specific name. Wherever you are required to produce code you should use code cells, otherwise you should use markdown cells to report results and explain answers. In most cases we indicate the nature of answer we are expecting (code/text), and also provide the required code/markdown cell.\n",
    "\n",
    "The .csv files that you will be using are located in the ./datasets directory that is included in the git repository with this file.\n",
    "\n",
    "Keep your answers brief and concise. Most written questions can be answered in 2-3 lines, a few will take longer.\n",
    "\n",
    "Make sure to distinguish between attributes (columns of the data) and features (which typically refers only to the independent variables, i.e. excluding the target variables).\n",
    "\n",
    "Make sure to show all your code/working.\n",
    "\n",
    "Write readable code. While we do not expect you to follow PEP8 to the letter, the code should be adequately understandable, with plots/visualisations correctly labelled. Do use inline comments when doing something non-standard. When asked to present numerical values, make sure to represent real numbers in the appropriate precision to exemplify your answer. \n",
    "\n",
    "You will see <html>\\\\pagebreak</html> at the start of each subquestion.  ***Do not remove these, if you do we will not be able to mark your coursework.***\n",
    "\n",
    "### SUBMISSION Process\n",
    "This assignment will account for 20% of your final mark. We ask you to submit answers to all questions.\n",
    "\n",
    "You will submit a PDF of your Notebook, and the Notebook itself.  Your grade will be based on the PDF, we will only use the Notebook if we need to see details.  **You must use the following procedure to create the materials to submit and then submit them**.\n",
    "\n",
    "1. Make sure your Notebook and the datasets are in Noteable and will run.  If you developed your answers in Noteable, this is already done.  If you developed your answers in your own environment, you will need to uploading your Notebook  to Noteable and make sure it runs ok.\n",
    "\n",
    "2. Select **Kernel->Restart & Run All** to create a clean copy of your submission, this will run the cells in order from top to bottom.  This may take a while (minutes) to complete, ensure that all the output and plots have completed before you proceed by waiting for the last cell's banner message to be printed.\n",
    "\n",
    "3. Select **File->Download as->PDF via LaTeX (.pdf)** and wait for the PDF to be created and downloaded.\n",
    "\n",
    "4. Select **File->Download as->Notebook (.ipynb)**\n",
    "\n",
    "5. You now should have in your download folder the pdf and the notebook.  Rename them ***sNNNNNNN.pdf*** and ***sNNNNNNN.ipynb***, where sNNNNNNN is your matriculation number (student number), e.g. s1234567.\n",
    "\n",
    "6. Now submit **the PDF** to Gradescope on Learn.  There is video guidance on Learn (***Assessment->Assignment Submission***) on how to do this.  It is **very important** that during Gradescope submission you **indicate which pages of your PDF correspod to which of the questions** - the video gives guidance on this, you can tick multiple pages for each question.\n",
    "\n",
    "7. Finally submit the Notebook itself (named as indicated in **5** above) to Learn.  You do this at ***Assessment->Assignment Submission->Assignment 1 - Submit your Notebook***\n",
    "\n",
    "The submission deadline for this assignment is **9th February 2021 at 16:00 UK time (UTC)**.  Don't leave it to the last minute!\n",
    "\n",
    "#### IMPORTS\n",
    "Execute the cell below to import all packages you will be using for this assignment.  If you are not using Noteable, make sure the python and package version numbers reported match the python and package numbers specified in the comment at the end of this cell."
   ]
  },
  {
   "cell_type": "code",
   "execution_count": null,
   "metadata": {},
   "outputs": [],
   "source": [
    "import os\n",
    "import platform\n",
    "import sys\n",
    "import sklearn\n",
    "import numpy as np\n",
    "np.random.seed(260393)\n",
    "import pandas as pd\n",
    "import seaborn as sns\n",
    "import matplotlib as mp\n",
    "import matplotlib.pyplot as plt\n",
    "from sklearn.metrics import accuracy_score, f1_score, precision_score, recall_score\n",
    "from sklearn.naive_bayes import CategoricalNB\n",
    "from sklearn.linear_model import LinearRegression\n",
    "from sklearn.metrics import r2_score, mean_squared_error\n",
    "from sklearn.metrics import classification_report,confusion_matrix\n",
    "from sklearn.model_selection import train_test_split\n",
    "from sklearn.preprocessing import OrdinalEncoder\n",
    "\n",
    "import warnings \n",
    "warnings.filterwarnings('ignore')\n",
    "\n",
    "print(\"All packages imported!\")\n",
    "print(\"python=={}\".format(platform.python_version()))\n",
    "print(\"seaborn=={}\".format(sns.__version__))\n",
    "print(\"scikit-learn=={}\".format(sklearn.__version__))\n",
    "print(\"pandas=={}\".format(pd.__version__))\n",
    "print(\"numpy=={}\".format(np.__version__))\n",
    "print(\"matplotlib=={}\".format(mp.__version__))\n",
    "\n",
    "# You should see this output:\n",
    "# All packages imported!\n",
    "# python==3.7.6\n",
    "# seaborn==0.11.0\n",
    "# scikit-learn==0.23.2\n",
    "# pandas==1.1.4\n",
    "# numpy==1.19.4\n",
    "# matplotlib==3.2.2"
   ]
  },
  {
   "cell_type": "markdown",
   "metadata": {},
   "source": [
    "\\pagebreak"
   ]
  },
  {
   "cell_type": "markdown",
   "metadata": {},
   "source": [
    "# Question 1 Linear Regression\n",
    "\n",
    "#### 88 marks out of 190 for this coursework\n",
    "\n",
    "### House Prices Dataset\n",
    "\n",
    "The aim of this task is to predict house prices in Melbourne, Victoria, Australia using Linear Regression. The dataset consists of [historic data of houses sold over several years](https://www.kaggle.com/anthonypino/melbourne-housing-market).\n",
    "\n",
    "\n",
    "***Attribute description:***\n",
    "\n",
    "- Suburb: Suburb\n",
    "- Address: Address\n",
    "- Rooms: Number of bedrooms\n",
    "- Price: Price in Australian dollars\n",
    "- Method: sale method (we won't use this)\n",
    "- Type: h (house), u (apartment), t (townhouse)\n",
    "- SellerG: Real Estate Agent\n",
    "- Date: Date sold\n",
    "- Distance: Distance from Central Business District in kilometres\n",
    "- Regionname: General Region\n",
    "- Propertycount: Number of properties that exist in the suburb.\n",
    "- Bedroom2 : Scraped # of Bedrooms (from different source)\n",
    "- Bathroom: Number of Bathrooms\n",
    "- Car: Number of carspots\n",
    "- Landsize: Land Size in Sq. Metres\n",
    "- BuildingArea: Building Size in Sq. Metres\n",
    "- YearBuilt: Year the house was built\n",
    "- CouncilArea: Governing council for the area\n",
    "- Lattitude: Latitude\n",
    "- Longtitude: Longitude\n"
   ]
  },
  {
   "cell_type": "markdown",
   "metadata": {},
   "source": [
    "\\pagebreak"
   ]
  },
  {
   "cell_type": "markdown",
   "metadata": {},
   "source": [
    "# ========== Question 1.1 --- [21 marks] ==========\n",
    "\n",
    "Answer (in brief) the following questions:\n",
    "\n",
    "1. [Text]A How do regression and classification tasks differ in Machine Learning? Give an example of each. \n",
    "2. [Code]A Read in the Melbourne_housing.csv data and name it ***aushouse***. Use functions to describe the dataset.\n",
    "3. [Text]A Comment on the characteristics of the attributes just displayed, including where data might be missing. Describe two different strategies for dealing with the missing data. "
   ]
  },
  {
   "cell_type": "markdown",
   "metadata": {},
   "source": [
    "(1) How do regression and classification tasks differ in Machine Learning? Give an example of each."
   ]
  },
  {
   "cell_type": "markdown",
   "metadata": {},
   "source": [
    "(1) ***Your answer goes here:***"
   ]
  },
  {
   "cell_type": "markdown",
   "metadata": {},
   "source": [
    "(2) Read in the Melbourne housing data and name it ***aushouse***. Use functions to describe the dataset."
   ]
  },
  {
   "cell_type": "code",
   "execution_count": null,
   "metadata": {},
   "outputs": [],
   "source": [
    "#(2) # your code goes here"
   ]
  },
  {
   "cell_type": "markdown",
   "metadata": {},
   "source": [
    "(3) Comment on the characteristics of the attributes just displayed, including where data might be missing. Describe two different strategies for dealing with the missing data."
   ]
  },
  {
   "cell_type": "markdown",
   "metadata": {},
   "source": [
    "(3) ***Your answer goes here:***"
   ]
  },
  {
   "cell_type": "markdown",
   "metadata": {},
   "source": [
    "\\pagebreak"
   ]
  },
  {
   "cell_type": "markdown",
   "metadata": {},
   "source": [
    "# ========== Question 1.2 --- [10 marks] ==========\n",
    "\n",
    "Answer (in brief) the following questions:\n",
    "\n",
    "1. [Text]B One feature that could well be important in predicting price is the Type of property (house, apartment or townhouse).  What type of feature is this, and why can't we use it in linear regression?  Describe a method for using information from this type of feature in linear regression.\n",
    "2. [Code]B Convert the Type feature using the method you described above. Remove features which cannot be used for linear regression, and the YearBuilt feature which we won't use."
   ]
  },
  {
   "cell_type": "markdown",
   "metadata": {},
   "source": [
    "(1) One feature that could well be important in predicting price is the Type of property (house, apartment or townhouse).  What type of feature is this, and why can't we use it in linear regression?  Describe a method for using information from this type of feature in linear regression (6)"
   ]
  },
  {
   "cell_type": "markdown",
   "metadata": {},
   "source": [
    "(1) ***your answer goes here:***"
   ]
  },
  {
   "cell_type": "markdown",
   "metadata": {},
   "source": [
    "(2) Convert the Type feature using the method you described above (if they used a different method, if you can easily see if their code matches their method then give them marks for it). Remove features which cannot be used for linear regression, and the YearBuilt feature which we won't use, and show a correlation heatmap with values"
   ]
  },
  {
   "cell_type": "code",
   "execution_count": null,
   "metadata": {},
   "outputs": [],
   "source": [
    "# (2) # Your code goes here"
   ]
  },
  {
   "cell_type": "markdown",
   "metadata": {},
   "source": [
    "\\pagebreak"
   ]
  },
  {
   "cell_type": "markdown",
   "metadata": {},
   "source": [
    "# ========== Question 1.3 --- [13 marks] ==========\n",
    "\n",
    "Answer (in brief) the following questions:\n",
    "\n",
    "1. [Code]C Show a correlation heatmap with values.\n",
    "2. [Text]C Comment on what you see in the correlation heatmap values, with regard to this task.  Which features could you drop, and why?\n",
    "3. [Code]C Drop the features you've identified, and remove any instances with missing attribute values.  "
   ]
  },
  {
   "cell_type": "markdown",
   "metadata": {},
   "source": [
    "(1) Show a correlation heatmap with values."
   ]
  },
  {
   "cell_type": "code",
   "execution_count": null,
   "metadata": {},
   "outputs": [],
   "source": [
    "# (1) # Your code goes here"
   ]
  },
  {
   "cell_type": "markdown",
   "metadata": {},
   "source": [
    "(2) Comment on what you see in the correlation heatmap values, with regard to this task.  Which features could you drop, and why?"
   ]
  },
  {
   "cell_type": "markdown",
   "metadata": {},
   "source": [
    "(2) ***your answer goes here***"
   ]
  },
  {
   "cell_type": "markdown",
   "metadata": {},
   "source": [
    "(3) Drop the features you have identified, and remove any instances with missing attribute values."
   ]
  },
  {
   "cell_type": "code",
   "execution_count": null,
   "metadata": {},
   "outputs": [],
   "source": [
    "# (3) # your code goes here"
   ]
  },
  {
   "cell_type": "markdown",
   "metadata": {},
   "source": [
    "\\pagebreak"
   ]
  },
  {
   "cell_type": "markdown",
   "metadata": {},
   "source": [
    "# ========== Question 1.4 --- [20 marks] ==========\n",
    "\n",
    "Answer (in brief) the following questions:\n",
    "\n",
    "1. [Code] Create ***X*** and ***y*** from <html><var>aushousing</var></html> and then use train_test_split to create training and test set, with the testing set being 20% of the entire data. Set the random_state to 0 for reproducibility.\n",
    "Hint: Look at the Lab exercises for an example.\n",
    "2. [Code] Fit a LinearRegression to the training set, print the intercept and a DataFrame showing the coefficient of each attribute.\n",
    "3. [Text] Describe the meaning of the intercept and the coefficients. Comment on the coefficients, including their size, and what they tell us about the relationship between the features and the price. Are there any coefficients with surprising values?"
   ]
  },
  {
   "cell_type": "markdown",
   "metadata": {},
   "source": [
    "(1) Create ***X*** and ***y*** from <html><var>aushousing</var></html> and then use train_test_split to create training and test set, with the testing set being 20% of the entire data. Set the random_state to 0 for reproducibility."
   ]
  },
  {
   "cell_type": "code",
   "execution_count": null,
   "metadata": {},
   "outputs": [],
   "source": [
    "#(1) # your code goes here"
   ]
  },
  {
   "cell_type": "markdown",
   "metadata": {},
   "source": [
    "(2) Fit a LinearRegression to the training set, print the intercept and a DataFrame showing the coefficient of each attribute."
   ]
  },
  {
   "cell_type": "code",
   "execution_count": null,
   "metadata": {},
   "outputs": [],
   "source": [
    "#(2) # your code goes here"
   ]
  },
  {
   "cell_type": "markdown",
   "metadata": {},
   "source": [
    "(3) Describe the meaning of the intercept and the coefficients. Comment on the coefficients, including their size, and what they tell us about the relationship between the features and the price.  Which house properties affect the price most?  Does the type of property matter much?"
   ]
  },
  {
   "cell_type": "markdown",
   "metadata": {},
   "source": [
    "(3) ***your answer goes here***"
   ]
  },
  {
   "cell_type": "markdown",
   "metadata": {},
   "source": [
    "\\pagebreak"
   ]
  },
  {
   "cell_type": "markdown",
   "metadata": {},
   "source": [
    "# ========== Question 1.5 --- [24 marks] ==========\n",
    "\n",
    "Answer (in brief) the following questions:\n",
    "\n",
    "1. [Code] Print the Root Mean Squared Error (RMSE) and <html><var>R<sup>2</sup></var></html>.\n",
    "2. [Text] Explain the meaning and output of the RMSE and <html><var>R<sup>2</sup></var></html>. What do they tell us about the fit of the data?"
   ]
  },
  {
   "cell_type": "markdown",
   "metadata": {},
   "source": [
    "(1) Print the Root Mean Squared Error (RMSE) and <html><var>R<sup>2</sup></var></html>."
   ]
  },
  {
   "cell_type": "code",
   "execution_count": null,
   "metadata": {},
   "outputs": [],
   "source": [
    "# (1) # Your code goes here"
   ]
  },
  {
   "cell_type": "markdown",
   "metadata": {},
   "source": [
    "(2) Explain the meaning and output of the RMSE and <html><var>R<sup>2</sup></var></html>. What do they tell us about the fit of the data?"
   ]
  },
  {
   "cell_type": "markdown",
   "metadata": {},
   "source": [
    "(2) ***Your answer goeshere:***"
   ]
  },
  {
   "cell_type": "markdown",
   "metadata": {},
   "source": [
    "\\pagebreak"
   ]
  },
  {
   "cell_type": "markdown",
   "metadata": {},
   "source": [
    "# Question 2 Naive Bayes\n",
    "\n",
    "#### 102 marks out of 190 for this coursework\n",
    "\n",
    "### Income dataset\n",
    "\n",
    "The aim of this task is to predict whether a United States person has income over \\$50,000. The dataset is derived from the [1994 US census data](https://archive.ics.uci.edu/ml/datasets/Adult).\n",
    "\n",
    "***Attribute description:***\n",
    "\n",
    "attributes in _italics_ are ones we will not use\n",
    "\n",
    "- _age: age in years_\n",
    "- work: working status\n",
    "- _fnlwgt: weighting factor_\n",
    "- edu: education level\n",
    "- _edunum: years of education_\n",
    "- marit: marital-status\n",
    "- occ: occupation\n",
    "- rel: relationship status\n",
    "- race: race.\n",
    "- sex: sex\n",
    "- _cg: capital-gains_\n",
    "- _cl: capital-losses_\n",
    "- _hours: hours of work per week_\n",
    "- over50k: income over $50,000\n"
   ]
  },
  {
   "cell_type": "markdown",
   "metadata": {},
   "source": [
    "\\pagebreak"
   ]
  },
  {
   "cell_type": "markdown",
   "metadata": {},
   "source": [
    "# ========== Question 2.1 --- [16 marks] ==========\n",
    "\n",
    "Answer (in brief) the following questions:  \n",
    "\n",
    "1. [Text] Why is the Naive Bayes method called that?  What is \"naive\" about it and what is Bayesian about it?\n",
    "2. [Code] Read in the income data (income.csv) and name it income.  Remove attributes we won't use (in _italics_ in the list above, i.e _age, fnlwgt, edunum, cg, cl, hours_), and remove instances with missing data.\n",
    "3. [Code] Use a library function to show the attributes, their type, and how many there are of each.\n",
    "4. [Code] We'll use the integer attribute as the class to predict.  How many classes are there, and what integer values to they have?\n",
    "5. [Code] Use another library function to show details about each of the other attributes (the features), including the frequency of the most prevalent category."
   ]
  },
  {
   "cell_type": "markdown",
   "metadata": {},
   "source": [
    "(1) Why is the Naive Bayes method called that?  What is \"naive\" about it and what is Bayesian about it?"
   ]
  },
  {
   "cell_type": "markdown",
   "metadata": {},
   "source": [
    "***your answer goes here***"
   ]
  },
  {
   "cell_type": "markdown",
   "metadata": {},
   "source": [
    "(2) Read in the income data (income.csv) and name it income.  Remove attributes we won't use (in _italics_ in the list above), and remove instances with missing data."
   ]
  },
  {
   "cell_type": "code",
   "execution_count": null,
   "metadata": {},
   "outputs": [],
   "source": [
    "#(2) # Your code goes here"
   ]
  },
  {
   "cell_type": "markdown",
   "metadata": {},
   "source": [
    "(3) Use a library function to show the attributes, their type, and how many there are of each."
   ]
  },
  {
   "cell_type": "code",
   "execution_count": null,
   "metadata": {},
   "outputs": [],
   "source": [
    "#(3) # Your code goes here"
   ]
  },
  {
   "cell_type": "markdown",
   "metadata": {},
   "source": [
    "(4) We'll use the integer attribute as the class to predict.  How many classes are there, and what integer values to they have?"
   ]
  },
  {
   "cell_type": "code",
   "execution_count": null,
   "metadata": {},
   "outputs": [],
   "source": [
    "#(4) # Your code goes here"
   ]
  },
  {
   "cell_type": "markdown",
   "metadata": {},
   "source": [
    "Use another library function to show details about each of the other attributes (the features), including the frequency of the most prevalent category."
   ]
  },
  {
   "cell_type": "code",
   "execution_count": null,
   "metadata": {},
   "outputs": [],
   "source": [
    "#(5) # Your code goes here"
   ]
  },
  {
   "cell_type": "markdown",
   "metadata": {},
   "source": [
    "\\pagebreak"
   ]
  },
  {
   "cell_type": "markdown",
   "metadata": {},
   "source": [
    "# ========== Question 2.2 --- [16 marks] ==========\n",
    "\n",
    "Answer (in brief) the following questions:  \n",
    "\n",
    "1. [Code] List the feature names.  \n",
    "2. [Code] Use seaborn functions to show a bar chart for each of the features of the number of instances with each attribute value, with distinct counts for each target class shown side by side.\n",
    "3. [Text] Comment on the plots you've created. Are there rare categories? Do the features look like they will be good for the classification task?"
   ]
  },
  {
   "cell_type": "markdown",
   "metadata": {},
   "source": [
    "(1) List the feature names. "
   ]
  },
  {
   "cell_type": "code",
   "execution_count": null,
   "metadata": {},
   "outputs": [],
   "source": [
    "#(1) # Your code goes here"
   ]
  },
  {
   "cell_type": "markdown",
   "metadata": {},
   "source": [
    "(2) Use seaborn functions to show a bar chart for each of the features of the number of instances with each attribute value, with distinct counts for each target class shown side by side."
   ]
  },
  {
   "cell_type": "code",
   "execution_count": null,
   "metadata": {},
   "outputs": [],
   "source": [
    "#(2) # Your code goes here"
   ]
  },
  {
   "cell_type": "markdown",
   "metadata": {},
   "source": [
    "(3) Comment on the plots you've created.  Are there rare categories? Do the features look like they will be good for the classification task "
   ]
  },
  {
   "cell_type": "markdown",
   "metadata": {},
   "source": [
    "***your answer goes here***"
   ]
  },
  {
   "cell_type": "markdown",
   "metadata": {},
   "source": [
    "\\pagebreak"
   ]
  },
  {
   "cell_type": "markdown",
   "metadata": {},
   "source": [
    "# ========== Question 2.3 --- [12 marks] ==========\n",
    "\n",
    "Answer the following questions: \n",
    "1. [Code] Set **target_encoded** to be the array of class values, and show some the values for some of the instances.\n",
    "2. [Code] Use OrdinalEncoder to transform the categorical feature values to numeric values\n",
    "3. [Code] Store the encodings in a data frame called income_encoded.  Show the feature values for some of the instances. "
   ]
  },
  {
   "cell_type": "markdown",
   "metadata": {},
   "source": [
    "(1) Set ***target_encoded*** to be the array of class values, and show the values for ten of the instances."
   ]
  },
  {
   "cell_type": "code",
   "execution_count": null,
   "metadata": {},
   "outputs": [],
   "source": [
    "#(1) # Your code goes here"
   ]
  },
  {
   "cell_type": "markdown",
   "metadata": {},
   "source": [
    "(2) Use OrdinalEncoder to transform the categorical feature values to numeric values"
   ]
  },
  {
   "cell_type": "code",
   "execution_count": null,
   "metadata": {},
   "outputs": [],
   "source": [
    "#(2) # Your code goes here"
   ]
  },
  {
   "cell_type": "markdown",
   "metadata": {},
   "source": [
    "(3) Store the encodings in a data frame called income_encoded.  Show the feature values for the first five instances. "
   ]
  },
  {
   "cell_type": "code",
   "execution_count": null,
   "metadata": {},
   "outputs": [],
   "source": [
    "#(3) # Your code goes here"
   ]
  },
  {
   "cell_type": "markdown",
   "metadata": {},
   "source": [
    "\\pagebreak"
   ]
  },
  {
   "cell_type": "markdown",
   "metadata": {},
   "source": [
    "# ========== Question 2.4 --- [22 marks] ==========\n",
    "\n",
    "Answer the following questions: \n",
    "1. [Code]  Set ***X*** to be the data frame of independent variables, and ***y*** the array of dependent variables. Split the data into training and test sets using test_train_split, with a testing fraction of 20%, and setting the random state to zero for consistency.\n",
    "2. [Code] A simple baseline for classification tasks is to always predict the most common class.  Create an array of predictions according to this baseline, and show the following performance statistics: number of missclassified instances, accuracy, F1, precision, recall.\n",
    "3. [Code]  Creat a confusion matrix and display it as an annotated heatmap (use sns_heatmap).\n",
    "4. [Text] Comment on what you see in the statistics from (2) and the confusion matrices in (3)"
   ]
  },
  {
   "cell_type": "markdown",
   "metadata": {},
   "source": [
    "(1) Set ***X*** to be the data frame of independent variables, and ***y*** the array of dependent variables. Split the data into training and test sets using ***test_train_split***, with a testing fraction of 20%, and setting the random state to zero for consistency."
   ]
  },
  {
   "cell_type": "code",
   "execution_count": null,
   "metadata": {},
   "outputs": [],
   "source": [
    "#(1) # Your code goes here"
   ]
  },
  {
   "cell_type": "markdown",
   "metadata": {},
   "source": [
    "(2) A simple baseline for classification tasks is to always predict the most common class in the training set (highest prior probability).  Print the class with the highest prior probability.  Create an array of predictions on the training set you just made, according to this baseline, and show the following performance statistics: number of missclassified instances, accuracy, F1, precision, recall."
   ]
  },
  {
   "cell_type": "code",
   "execution_count": null,
   "metadata": {},
   "outputs": [],
   "source": [
    "#(2) # Your code goes here"
   ]
  },
  {
   "cell_type": "markdown",
   "metadata": {},
   "source": [
    "3. Create a confusion matrix between the training targets for the baseline predictor, and the normalised confusion matrix.  Display the confusion matrix.  Also display the normalised confusion matrix as an annotated heatmap. ***Hint:*** Use the plot_confusion_matrix function from the labs for the heatmap."
   ]
  },
  {
   "cell_type": "code",
   "execution_count": null,
   "metadata": {},
   "outputs": [],
   "source": [
    "#(3) # Your code goes here"
   ]
  },
  {
   "cell_type": "markdown",
   "metadata": {},
   "source": [
    "(4) Comment on what you see in the statistics from (2) and the confusion matrices in (3)"
   ]
  },
  {
   "cell_type": "markdown",
   "metadata": {},
   "source": [
    "(4) ***your answer goes here***"
   ]
  },
  {
   "cell_type": "markdown",
   "metadata": {},
   "source": [
    "\\pagebreak"
   ]
  },
  {
   "cell_type": "markdown",
   "metadata": {},
   "source": [
    "# ========== Question 2.5 --- [22 marks] ==========\n",
    "\n",
    "Answer the following questions: \n",
    "1. [Code] Train a categorical Naive Bayes classifier on the training data you made.\n",
    "2. [Code] Report the classifier's accuracy, precision and recall and F1 on the **training** dataset.  Also report the confusion matrix and the normalised confusion matrix for the result.\n",
    "3. [Text] Interpret the values of the accuracy, F1, precision and recall. Comment on the performance of the model, comparing to the baseline. Is the accuracy a reasonable metric to use for this dataset? Interpret the numbers in the confusion matrix. Does it look like you would expect to find in a \"good\" classifier?"
   ]
  },
  {
   "cell_type": "markdown",
   "metadata": {},
   "source": [
    "(1) Train a categorical Naive Bayes model on the training data you made,and it's predictions on the same training data."
   ]
  },
  {
   "cell_type": "code",
   "execution_count": null,
   "metadata": {},
   "outputs": [],
   "source": [
    "# (1) Your code goes here"
   ]
  },
  {
   "cell_type": "markdown",
   "metadata": {},
   "source": [
    "(2) Report the classifier's accuracy, precision and recall and F1 on the training dataset.  Also report the confusion matrix and the normalised confusion matrix for the result."
   ]
  },
  {
   "cell_type": "code",
   "execution_count": null,
   "metadata": {},
   "outputs": [],
   "source": [
    "# (2) # Your code goes here"
   ]
  },
  {
   "cell_type": "markdown",
   "metadata": {},
   "source": [
    "3. Interpret the values of the accuracy, F1, precision and recall. Comment on the performance of the model, comparing to the baseline. Is the accuracy a reasonable metric to use for this dataset? Interpret the numbers in the confusion matrix. Does it look like you would expect to find in a \"good\" classifier?"
   ]
  },
  {
   "cell_type": "markdown",
   "metadata": {},
   "source": [
    "***your answer goes here***"
   ]
  },
  {
   "cell_type": "markdown",
   "metadata": {},
   "source": [
    "\\pagebreak"
   ]
  },
  {
   "cell_type": "markdown",
   "metadata": {},
   "source": [
    "# ========== Question 2.6 --- [14 marks] ==========\n",
    "\n",
    "Answer the following questions: \n",
    "1. [Code] Now evaluate the classifier on the testing data you made.  Report the classifier's accuracy, precision and recall and F1 on the testing dataset.  Also report the confusion matrix and the normalised confusion matrix for the result.\n",
    "2. [Text] In a short paragraph (2-3 sentences) compare and comment on the results with the training data.\n",
    "3. [Text] Since the categorical data has been encoded as numbers, we could now train a GNB on the data.  Would you expect the GNB to perform better or worse than the CNB, and why?"
   ]
  },
  {
   "cell_type": "markdown",
   "metadata": {},
   "source": [
    "(1) Now evaluate the classifier on the testing data you made.  Report the classifier's accuracy, precision and recall and F1 on the testing dataset.  Also report the confusion matrix and the normalised confusion matrix for the result."
   ]
  },
  {
   "cell_type": "code",
   "execution_count": null,
   "metadata": {},
   "outputs": [],
   "source": [
    "# (1) # Your code goes here"
   ]
  },
  {
   "cell_type": "markdown",
   "metadata": {},
   "source": [
    "(2) In a short paragraph (2-3 sentences) compare and comment on the results with the training data."
   ]
  },
  {
   "cell_type": "markdown",
   "metadata": {},
   "source": [
    "(2) ***your answer goes here***"
   ]
  },
  {
   "cell_type": "markdown",
   "metadata": {},
   "source": [
    " (3) Since the categorical data has been encoded as numbers, we could now train a GNB on the data.  Would you expect the GNB to perform better or worse than the CNB, and why?"
   ]
  },
  {
   "cell_type": "markdown",
   "metadata": {},
   "source": [
    "(3) ***your answer goes here***"
   ]
  },
  {
   "cell_type": "markdown",
   "metadata": {},
   "source": [
    "\\pagebreak"
   ]
  },
  {
   "cell_type": "code",
   "execution_count": null,
   "metadata": {},
   "outputs": [],
   "source": [
    "# This cell's output will confirm all cells have been run if you select Kernel->Restart & Run All.\n",
    "# Wait until you see the output printed\n",
    "print(\"*****************************\")\n",
    "print(\"*                           *\")\n",
    "print(\"* All cells have been run!! *\")\n",
    "print(\"*                           *\")\n",
    "print(\"*****************************\")"
   ]
  }
 ],
 "metadata": {
  "kernelspec": {
   "display_name": "Python 3",
   "language": "python",
   "name": "python3"
  },
  "language_info": {
   "codemirror_mode": {
    "name": "ipython",
    "version": 3
   },
   "file_extension": ".py",
   "mimetype": "text/x-python",
   "name": "python",
   "nbconvert_exporter": "python",
   "pygments_lexer": "ipython3",
   "version": "3.8.2"
  }
 },
 "nbformat": 4,
 "nbformat_minor": 2
}
